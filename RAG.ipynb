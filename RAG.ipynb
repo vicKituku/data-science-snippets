{
 "cells": [
  {
   "cell_type": "code",
   "execution_count": 18,
   "metadata": {},
   "outputs": [
    {
     "data": {
      "text/plain": [
       "True"
      ]
     },
     "execution_count": 18,
     "metadata": {},
     "output_type": "execute_result"
    }
   ],
   "source": [
    "import os\n",
    "from dotenv import load_dotenv, dotenv_values\n",
    "from langchain.embeddings.openai import OpenAIEmbeddings\n",
    "from langchain.vectorstores import FAISS\n",
    "from langchain.chains import RetrievalQA\n",
    "from langchain.memory import ConversationBufferMemory\n",
    "from langchain.chat_models import ChatOpenAI\n",
    "from langchain.prompts import PromptTemplate\n",
    "from langchain.agents import AgentExecutor, Tool,initialize_agent\n",
    "from langchain.agents.types import AgentType\n",
    "load_dotenv()"
   ]
  },
  {
   "cell_type": "code",
   "execution_count": 169,
   "metadata": {},
   "outputs": [],
   "source": [
    "system_message = \"\"\"\n",
    "\"You are the XYZ bot.\"\n",
    "\"This is conversation with a human. Answer the questions you get based on the knowledge you have.\"\n",
    "\"If you don't know the answer, just say that you don't, don't try to make up an answer.\"\n",
    "\"\"\""
   ]
  },
  {
   "cell_type": "code",
   "execution_count": 21,
   "metadata": {},
   "outputs": [],
   "source": [
    "llm = ChatOpenAI(\n",
    "    model_name=\"gpt-3.5-turbo\",  # Name of the language model\n",
    "    temperature=0  # Parameter that controls the randomness of the generated responses\n",
    ")"
   ]
  },
  {
   "cell_type": "code",
   "execution_count": 22,
   "metadata": {},
   "outputs": [
    {
     "name": "stderr",
     "output_type": "stream",
     "text": [
      "c:\\Users\\victo\\Desktop\\data\\data-science-snippets\\env-data\\Lib\\site-packages\\langchain_core\\_api\\deprecation.py:117: LangChainDeprecationWarning: The class `langchain_community.embeddings.openai.OpenAIEmbeddings` was deprecated in langchain-community 0.0.9 and will be removed in 0.2.0. An updated version of the class exists in the langchain-openai package and should be used instead. To use it run `pip install -U langchain-openai` and import as `from langchain_openai import OpenAIEmbeddings`.\n",
      "  warn_deprecated(\n"
     ]
    }
   ],
   "source": [
    "embeddings = OpenAIEmbeddings()"
   ]
  },
  {
   "cell_type": "code",
   "execution_count": 126,
   "metadata": {},
   "outputs": [],
   "source": [
    "from langchain_community.document_loaders import PyPDFLoader\n",
    "from langchain.document_loaders import DirectoryLoader, TextLoader\n",
    "\n",
    "from langchain_community.document_loaders import PyPDFDirectoryLoader\n",
    "\n",
    "loader = PyPDFDirectoryLoader(\"docs\")\n",
    "\n",
    "doc = loader.load()\n"
   ]
  },
  {
   "cell_type": "code",
   "execution_count": 143,
   "metadata": {},
   "outputs": [
    {
     "name": "stdout",
     "output_type": "stream",
     "text": [
      "docs\\download.pdf 2 \n",
      "\n",
      "i. Kenya Power & Lighting Company Limited & another v Zakayo Saitoti Naingola & another\n",
      "(2008) eKLR\n",
      "ii. HB (minor suing through mother & next friend DKM) v jasper Nchonga Magari & another\n",
      "(2021) eKLR\n",
      "iii. Eva Karemi & 5 others v Koskei Kieng & another (2020) eKLR\n",
      "iv. Homabay Civil Appeal No. E113 of 2021-James Kwanya Rege v Loice Mbone Cweya.\n",
      "14. The appellant submitted that costs followed the event and prayed for costs of this Appeal based on\n",
      "section 27(1) of the Civil Procedure Act.\n",
      "The respondent’s Submissions.\n",
      "15. Through her submissions dated March 24, 2023, the respondent submitted that Dr. Peter Morebu\n",
      "opined that she sustained multiple injuries which were in the process of healing and that she needed\n",
      "analgesics when she was in pain. That the award of Kshs 200,000/= was not too high to warrant\n",
      "interference by this court. She relied on Charles Gichuki v Emily Kawira Mbuba & another (2018)\n",
      "eKLR.\n",
      "16. It was the respondents’ submission that the award by the trial court was based on evidence and\n",
      "supported by recent authorities and that there was no basis to fault the same. That the fact that the\n",
      "trial court failed to adopt the appellant’s submissions did not mean that they were not considered. It\n",
      "was her further submissions that parties’ submissions were not binding upon the court.\n",
      "17. I have considered the Record of Appeal led on January 25, 2023, the Supplementary Record\n",
      "of Appeal dated February 3, 2023, the appellant’s written submissions dated April 15, 2023, the\n",
      "respondent’s written submissions dated March 24, 2023and the only issue for my determination was\n",
      "whether the award of Kshs 211,550/= was fair and just.\n",
      "18. In regards to liability, I concur with the trial court’s decision to nd the appellant 100% liable.\n",
      "The appellant did not testify as to the circumstances of the accident and therefore the respondent’s\n",
      "testimony was uncontroverted. Further, the respondent was a passenger and was not in control of the\n",
      "motor vehicle or the circumstances surrounding the accident.\n",
      "19. It is also salient to note that the appellant’s appeal was to the extent of the assessment of damages and\n",
      "not liability.\n",
      "General Damages\n",
      "20. It is a principle of law that whoever lays a claim before the court against another has the burden to\n",
      "prove it. Section 107 of the Evidence Act provide as follows:-\n",
      "(1) Whoever desires any court to give judgment as to any legal right or liability dependent on the\n",
      "existence of facts which he asserts must prove that those facts exist.\n",
      "(2) When a person is bound to prove the existence of any fact it is said that the burden of proof\n",
      "lies on that person.\n",
      "21. In determining general damages the court has to examine the extent and gravity of the injuries suered\n",
      "by the respondent. The respondent stated that she had suered the injuries listed in the Plaint.\n",
      "The Medical Report by Dr. Morebu marked as P.Exh 5 stated that the respondent was examined\n",
      " kenyalaw.org/caselaw/cases/view/272235/ 3\n"
     ]
    }
   ],
   "source": [
    "print(doc[17].metadata['source'], doc[17].metadata['page'],'\\n')\n",
    "print(doc[17].page_content)\n"
   ]
  },
  {
   "cell_type": "code",
   "execution_count": 144,
   "metadata": {},
   "outputs": [],
   "source": [
    "from langchain.text_splitter import RecursiveCharacterTextSplitter\n",
    "text_splitter = RecursiveCharacterTextSplitter(\n",
    "    separators= \"\\n\",\n",
    "    chunk_size = 1000,\n",
    "    chunk_overlap = 200,\n",
    ")\n",
    "text_chunks = text_splitter.split_documents(doc)"
   ]
  },
  {
   "cell_type": "code",
   "execution_count": 146,
   "metadata": {},
   "outputs": [
    {
     "data": {
      "text/plain": [
       "81"
      ]
     },
     "execution_count": 146,
     "metadata": {},
     "output_type": "execute_result"
    }
   ],
   "source": [
    "len(text_chunks)"
   ]
  },
  {
   "cell_type": "code",
   "execution_count": 145,
   "metadata": {},
   "outputs": [],
   "source": [
    "vectorstore = FAISS.from_documents(text_chunks, embeddings)"
   ]
  },
  {
   "cell_type": "code",
   "execution_count": 147,
   "metadata": {},
   "outputs": [],
   "source": [
    "retriever = vectorstore.as_retriever()"
   ]
  },
  {
   "cell_type": "code",
   "execution_count": 150,
   "metadata": {},
   "outputs": [],
   "source": [
    "docs = retriever.get_relevant_documents(\"car accident with brocken femur\")"
   ]
  },
  {
   "cell_type": "code",
   "execution_count": 159,
   "metadata": {},
   "outputs": [
    {
     "data": {
      "text/plain": [
       "({'source': 'docs\\\\Civil_Appeal_52_of_2020.pdf', 'page': 1},\n",
       " '9.  It was PW1’s further testimony that there was a metal plate in his leg that needed to be removed for Kshs.180,000/=. He denied\\ngoing to the road or using his mobile phone. He told the court that he was walking along a pedestrian path  when he was knocked by\\nthis vehicle and that he totally blamed the 1st Defendant for the accident.\\n10.  On cross-examination PW1 testified that he was not walking along the zebra crossing, but along the machine lines. He\\nmaintained that he was a driver who used to earn Kshs.50,000/=.\\n11. PW2 was Dr. Ajoni Adede  who examined PW1 on the 21st November, 2018.  He stated that PW1 was involved in a road\\ntraffic accident on 8th November, 201 8 and suffered fractures of the right tibia and fibula leg bones as well as a dislocation of the\\nright ankle and a bruise on the right leg. He testified that he examined PW1 thirteen days after the accident.')"
      ]
     },
     "execution_count": 159,
     "metadata": {},
     "output_type": "execute_result"
    }
   ],
   "source": [
    "docs[1].metadata, docs[1].page_content"
   ]
  },
  {
   "cell_type": "code",
   "execution_count": 97,
   "metadata": {},
   "outputs": [],
   "source": [
    "memory = ConversationBufferMemory(memory_key=\"chat_history\", input_key='input', return_messages=True, output_key='output')"
   ]
  },
  {
   "cell_type": "code",
   "execution_count": 161,
   "metadata": {},
   "outputs": [],
   "source": [
    "qa = RetrievalQA.from_chain_type(\n",
    "        llm=llm,\n",
    "        chain_type=\"stuff\",\n",
    "        retriever=vectorstore.as_retriever(),\n",
    "        verbose=True,\n",
    "        return_source_documents=True\n",
    "    )"
   ]
  },
  {
   "cell_type": "code",
   "execution_count": 162,
   "metadata": {},
   "outputs": [],
   "source": [
    "tools = [\n",
    "        Tool(\n",
    "            name=\"doc_search_tool\",\n",
    "            func=qa,\n",
    "            description=(\n",
    "               \"This tool is used to retrieve information from the knowledge base\"\n",
    "            )\n",
    "        )\n",
    "    ]"
   ]
  },
  {
   "cell_type": "code",
   "execution_count": 170,
   "metadata": {},
   "outputs": [],
   "source": [
    "agent = initialize_agent(\n",
    "        agent = AgentType.CHAT_CONVERSATIONAL_REACT_DESCRIPTION,\n",
    "        tools=tools,\n",
    "        llm=llm,\n",
    "        memory=memory,\n",
    "        return_source_documents=True,\n",
    "        return_intermediate_steps=True,\n",
    "        agent_kwargs={\"system_message\": system_message}\n",
    "        )"
   ]
  },
  {
   "cell_type": "code",
   "execution_count": 178,
   "metadata": {},
   "outputs": [
    {
     "name": "stdout",
     "output_type": "stream",
     "text": [
      "\n",
      "\n",
      "\u001b[1m> Entering new RetrievalQA chain...\u001b[0m\n",
      "\n",
      "\u001b[1m> Finished chain.\u001b[0m\n"
     ]
    }
   ],
   "source": [
    "query1 = \"based on the cases return iformation relevant to broken femur including there page numbers\"\n",
    "result1 = agent(query1)"
   ]
  },
  {
   "cell_type": "code",
   "execution_count": 183,
   "metadata": {},
   "outputs": [
    {
     "data": {
      "text/plain": [
       "{'source': 'docs\\\\Civil_Appeal_52_of_2020.pdf', 'page': 3}"
      ]
     },
     "execution_count": 183,
     "metadata": {},
     "output_type": "execute_result"
    }
   ],
   "source": [
    "result1['intermediate_steps'][0][1]['source_documents'][0].metadata"
   ]
  },
  {
   "cell_type": "code",
   "execution_count": 180,
   "metadata": {},
   "outputs": [
    {
     "data": {
      "text/plain": [
       "'The information provided does not mention a broken femur in any of the cases discussed. Therefore, based on the context provided, I do not have information about a broken femur in these specific legal cases.'"
      ]
     },
     "execution_count": 180,
     "metadata": {},
     "output_type": "execute_result"
    }
   ],
   "source": [
    "result1['output']"
   ]
  },
  {
   "cell_type": "code",
   "execution_count": 181,
   "metadata": {},
   "outputs": [
    {
     "data": {
      "text/plain": [
       "{'input': 'based on the cases return iformation relevant to broken femur including there page numbers',\n",
       " 'chat_history': [HumanMessage(content='how to appoint chief justice?'),\n",
       "  AIMessage(content=\"The Chief Justice of a country is typically appointed by the head of state or government, following a process outlined in the country's constitution or laws. The specific procedure can vary between different countries.\"),\n",
       "  HumanMessage(content='how to appoint chief justice?'),\n",
       "  AIMessage(content=\"I don't know.\"),\n",
       "  HumanMessage(content='my client was in a car accident with brocken femur'),\n",
       "  AIMessage(content=\"I am sorry to hear about your client's car accident and broken femur. It's important for your client to seek medical attention immediately and consider consulting with a personal injury lawyer to understand their legal options for seeking compensation for their injuries.\"),\n",
       "  HumanMessage(content='my client was in a car accident with brocken femur how can i win this case'),\n",
       "  AIMessage(content=\"It's important to gather all relevant evidence related to the car accident, including medical records, witness statements, and any documentation from the scene. Consulting with a personal injury lawyer who can assess the details of the case and advise on the best legal strategy is crucial in pursuing a successful outcome.\"),\n",
       "  HumanMessage(content='based on the cases return iformation relevant to broken femur including there page numbers'),\n",
       "  AIMessage(content='The information provided does not mention a broken femur in any of the cases discussed. Therefore, based on the context provided, I do not have information about a broken femur in these specific legal cases.')],\n",
       " 'output': 'The information provided does not mention a broken femur in any of the cases discussed. Therefore, based on the context provided, I do not have information about a broken femur in these specific legal cases.',\n",
       " 'intermediate_steps': [(AgentAction(tool='doc_search_tool', tool_input='broken femur', log='```json\\n{\\n    \"action\": \"doc_search_tool\",\\n    \"action_input\": \"broken femur\"\\n}\\n```'),\n",
       "   {'query': 'broken femur',\n",
       "    'result': 'The information provided does not mention a broken femur in any of the cases discussed. Therefore, based on the context provided, I do not have information about a broken femur in these specific legal cases.',\n",
       "    'source_documents': [Document(page_content='trochanteric and comminuted compound fracture left tibia and fibula. The court awarded him Kshs.750,000/= for pain, suffering\\nand loss of amenities.\\nb) Joseph Musee Mua –vs- Julius Mbogo Mugi & 3 Others [2013]eKLR . The Plaintiff sustained fractures of the right tibia and\\nhttp://www.kenyalaw.org - Page 4/9', metadata={'source': 'docs\\\\Civil_Appeal_52_of_2020.pdf', 'page': 3}),\n",
       "     Document(page_content='Appellant submitted that the Respondent underwent second medical examination by Dr. Wambugu\\nwho con\\ue004rmed in the medical report dated 9th May, 2022 that the Respondent su\\ue000ered the following\\ninjuries; a) compound fracture tibia and \\ue004bula involving distal third; closed fracture right femur;\\nand closed fracture right radius not ulna. That although the second medical examination of the\\n kenyalaw.org/caselaw/cases/view/282889/ 2', metadata={'source': 'docs\\\\download (1).pdf', 'page': 1}),\n",
       "     Document(page_content='bleeding and consistent loss of consciousness the court lowered the award for general damages from Kshs.800,000/= to\\nKshs.500,000/=.\\n32. In the case of Daniel Otieno Owino & Another –vs- Elizabeth Atieno Owuor[2020]eKLR  the court gave an award of\\nKshs.400,000/= for a compound fracture of tibia and fibula bones of the right leg, deep cut wound and tissue damage of the right\\nleg, head injury with cut wound on the nose, blunt chest injuries and soft tissue injury on the lower left leg and reliance was further\\nplaced on the case of Civicon Limited –vs- Richard Njomo Omwancha & 2 Others  [2019]eKLR,  wherein the 22nd Respondent\\nwas awarded Kshs.450,000/= for deep cut wound on the left earlobe, tender left lateral chest wall, swollen and tender left arm,\\nbruises on the left hand, swollen and tender left elbow, cut wound on the left foreleg, fracture of the left tibia and fibula and', metadata={'source': 'docs\\\\Civil_Appeal_52_of_2020.pdf', 'page': 4}),\n",
       "     Document(page_content='into consideration.\\ne)  Awards should not be inordinately too high or too low.\\n42. In this case there were two medical reports that were produced before, one was by PW2, who examined the Appellant on the\\n21st November, 2018 , thirteen (13) days after the accident occurred and a report by Dr. Udayan R. Sheth , Consultant Orthopedic\\nSurgeon was also produced by consent of the parties, and it was dated 25th June, 2019 .\\n43. PW2 indicated that the Appellant suffered fractures of the right tibia and fibula leg bones (lower 1/3rd bimalleolar ankle),\\ndislocation of the right ankle and a bruise on the right leg. He stated that treatment included X-ray; tibia (screws) and Fibula (plate)\\nmetal implants, crutches, leg brace and bandage, wound and pain care. He assessed permanent disability at 18%.\\n44. The report of Dr. Udayan R. Sheth , Consultant Orthopedic Surgeon , was done on the 25th June, 2019 , seven (7) months', metadata={'source': 'docs\\\\Civil_Appeal_52_of_2020.pdf', 'page': 5})]})]}"
      ]
     },
     "execution_count": 181,
     "metadata": {},
     "output_type": "execute_result"
    }
   ],
   "source": [
    "dict(result1)"
   ]
  },
  {
   "cell_type": "code",
   "execution_count": 182,
   "metadata": {},
   "outputs": [
    {
     "ename": "KeyError",
     "evalue": "'source_documents'",
     "output_type": "error",
     "traceback": [
      "\u001b[1;31m---------------------------------------------------------------------------\u001b[0m",
      "\u001b[1;31mKeyError\u001b[0m                                  Traceback (most recent call last)",
      "Cell \u001b[1;32mIn[182], line 2\u001b[0m\n\u001b[0;32m      1\u001b[0m \u001b[38;5;28;01mfor\u001b[39;00m x \u001b[38;5;129;01min\u001b[39;00m \u001b[38;5;28mrange\u001b[39m(\u001b[38;5;28mlen\u001b[39m(result1[\u001b[38;5;124m'\u001b[39m\u001b[38;5;124mintermediate_steps\u001b[39m\u001b[38;5;124m'\u001b[39m][\u001b[38;5;241m0\u001b[39m][\u001b[38;5;241m1\u001b[39m][\u001b[38;5;124m\"\u001b[39m\u001b[38;5;124msource_documents\u001b[39m\u001b[38;5;124m\"\u001b[39m][\u001b[38;5;241m0\u001b[39m]\u001b[38;5;241m.\u001b[39mmetadata)):\n\u001b[1;32m----> 2\u001b[0m     \u001b[38;5;28mprint\u001b[39m(\u001b[43mresult1\u001b[49m\u001b[43m[\u001b[49m\u001b[38;5;124;43m\"\u001b[39;49m\u001b[38;5;124;43msource_documents\u001b[39;49m\u001b[38;5;124;43m\"\u001b[39;49m\u001b[43m]\u001b[49m[x]\u001b[38;5;241m.\u001b[39mmetadata)\n",
      "\u001b[1;31mKeyError\u001b[0m: 'source_documents'"
     ]
    }
   ],
   "source": [
    "for x in range(len(result1['intermediate_steps'][0][1][\"source_documents\"][0].metadata)):\n",
    "    print(result1[\"source_documents\"][x].metadata)"
   ]
  }
 ],
 "metadata": {
  "kernelspec": {
   "display_name": "Python 3",
   "language": "python",
   "name": "python3"
  },
  "language_info": {
   "codemirror_mode": {
    "name": "ipython",
    "version": 3
   },
   "file_extension": ".py",
   "mimetype": "text/x-python",
   "name": "python",
   "nbconvert_exporter": "python",
   "pygments_lexer": "ipython3",
   "version": "3.12.2"
  }
 },
 "nbformat": 4,
 "nbformat_minor": 2
}
